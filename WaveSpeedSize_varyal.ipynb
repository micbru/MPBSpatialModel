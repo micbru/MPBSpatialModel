{
 "cells": [
  {
   "cell_type": "markdown",
   "id": "093028ca",
   "metadata": {},
   "source": [
    "Plot the speed and size, but varying alpha"
   ]
  },
  {
   "cell_type": "code",
   "execution_count": 10,
   "id": "b32a40e5",
   "metadata": {},
   "outputs": [],
   "source": [
    "import spatialfunctions as sf\n",
    "import numpy as np\n",
    "import matplotlib.pyplot as plt\n",
    "from IPython.display import clear_output"
   ]
  },
  {
   "cell_type": "code",
   "execution_count": 11,
   "id": "935aeb54",
   "metadata": {},
   "outputs": [],
   "source": [
    "plt.rcParams['font.family'] = 'serif'\n",
    "\n",
    "# Make plot colors and things to make it easier to be consistent\n",
    "cmap = plt.cm.get_cmap('Greens')\n",
    "cdiscrete = cmap(np.linspace(0, 1, 10))\n",
    "c0 = 'k'\n",
    "c1 = cdiscrete[-1]\n",
    "c2 = cdiscrete[-3]\n",
    "c3 = cdiscrete[-5]\n",
    "clist = [c1,c2,c3]\n",
    "\n",
    "# Figsize consistent\n",
    "figsize = (3,3)"
   ]
  },
  {
   "cell_type": "code",
   "execution_count": 12,
   "id": "cdfc84d8",
   "metadata": {},
   "outputs": [],
   "source": [
    "# Set params\n",
    "s = 0.99\n",
    "N = 60\n",
    "c = 1300\n",
    "\n",
    "# Do a reasonable range of alpha\n",
    "allist= [0.001,0.01,0.1]\n",
    "\n",
    "# Use a range of thresholds\n",
    "plist = np.arange(100,625,25)\n",
    "plen = len(plist)\n",
    "\n",
    "# Set up grid to be large enough given the dispersal kernel\n",
    "xrexplist = [19,17,14]; dx=16;\n",
    "#xr = np.arange(-2**xrexp,2**xrexp+dx,step=dx)"
   ]
  },
  {
   "cell_type": "code",
   "execution_count": 13,
   "id": "272a74f9",
   "metadata": {
    "scrolled": true
   },
   "outputs": [
    {
     "name": "stdout",
     "output_type": "stream",
     "text": [
      "21 / 21\n"
     ]
    }
   ],
   "source": [
    "# Simulate for this many steps\n",
    "nt = 200\n",
    "\n",
    "# Save metrics\n",
    "metrics = np.zeros([3,3,plen])\n",
    "\n",
    "for j,al in enumerate(allist):\n",
    "    xr = np.arange(-2**xrexplist[j],2**xrexplist[j]+dx,step=dx)\n",
    "    for i,pp in enumerate(plist):\n",
    "        # Simple progress bar\n",
    "        clear_output(wait=True)\n",
    "        print(i+1,\"/\",plen)\n",
    "        # Get metrics speed[i],period[i],size[i]\n",
    "        metrics.T[i,j] = sf.get_outbreak_metrics(pp,c,s,N,al,xr,xrexplist[j],dx,nt)"
   ]
  },
  {
   "cell_type": "code",
   "execution_count": 14,
   "id": "9e87a1bc",
   "metadata": {},
   "outputs": [
    {
     "name": "stdout",
     "output_type": "stream",
     "text": [
      "[ True  True  True  True  True  True  True  True  True  True  True  True\n",
      "  True  True  True  True  True  True  True  True  True]\n",
      "[ True  True  True  True  True  True  True  True  True  True  True  True\n",
      "  True  True  True  True  True  True  True  True  True]\n",
      "[ True  True  True  True  True  True  True  True  True  True  True  True\n",
      "  True  True  True  True  True  True  True  True  True]\n"
     ]
    }
   ],
   "source": [
    "# Make sure period is N+3 or 0\n",
    "for j,al in enumerate(allist):\n",
    "    print(np.bitwise_or(metrics[1,j]==N+3,metrics[1,j]==0))"
   ]
  },
  {
   "cell_type": "code",
   "execution_count": 15,
   "id": "e081ce47",
   "metadata": {},
   "outputs": [
    {
     "data": {
      "image/png": "[encoded data removed]",
      "text/plain": [
       "<Figure size 216x216 with 1 Axes>"
      ]
     },
     "metadata": {
      "needs_background": "light"
     },
     "output_type": "display_data"
    }
   ],
   "source": [
    "# Plot speeds\n",
    "plt.figure(figsize=figsize)\n",
    "for j,al in enumerate(allist):\n",
    "    plt.plot(plist,metrics[0,j]*al,'o-',c=clist[j],label=r'$\\alpha={:.3f}$'.format(al))\n",
    "plt.axhline(0,c=c0,zorder=-99)\n",
    "plt.legend()\n",
    "plt.xlabel(r'Threshold, $\\varphi$')\n",
    "plt.ylabel(r'Speed $\\times \\alpha$ (1/year)')\n",
    "plt.savefig('figures/speed_varyal.pdf',bbox_inches='tight')"
   ]
  },
  {
   "cell_type": "code",
   "execution_count": 16,
   "id": "fff1c932",
   "metadata": {},
   "outputs": [
    {
     "data": {
      "image/png": "[encoded data removed]",
      "text/plain": [
       "<Figure size 216x216 with 1 Axes>"
      ]
     },
     "metadata": {
      "needs_background": "light"
     },
     "output_type": "display_data"
    }
   ],
   "source": [
    "# Plot sizes\n",
    "plt.figure(figsize=figsize)\n",
    "for j,al in enumerate(allist):\n",
    "    plt.plot(plist,metrics[2,j],'o-',c=clist[j],label=r'$\\alpha={:.3f}$'.format(al))\n",
    "plt.axhline(0,c=c0,zorder=-99)\n",
    "ydefault = plt.gca().get_ylim()\n",
    "plt.ylim(ydefault[0],1.05)\n",
    "plt.legend()\n",
    "plt.xlabel(r'Threshold, $\\varphi$')\n",
    "plt.ylabel('Peak fraction of infested trees')\n",
    "plt.savefig('figures/size_varyal.pdf',bbox_inches='tight')"
   ]
  },
  {
   "cell_type": "code",
   "execution_count": null,
   "id": "48266252",
   "metadata": {},
   "outputs": [],
   "source": []
  }
 ],
 "metadata": {
  "kernelspec": {
   "display_name": "Python 3 (ipykernel)",
   "language": "python",
   "name": "python3"
  },
  "language_info": {
   "codemirror_mode": {
    "name": "ipython",
    "version": 3
   },
   "file_extension": ".py",
   "mimetype": "text/x-python",
   "name": "python",
   "nbconvert_exporter": "python",
   "pygments_lexer": "ipython3",
   "version": "3.9.12"
  }
 },
 "nbformat": 4,
 "nbformat_minor": 5
}
